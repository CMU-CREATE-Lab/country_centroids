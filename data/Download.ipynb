{
 "cells": [
  {
   "cell_type": "code",
   "execution_count": null,
   "metadata": {},
   "outputs": [],
   "source": [
    "# Download country centroids from http://gothos.info/resources/\n",
    "url = \"http://gothos.info/resource_files/country_centroids.zip\"\n",
    "cmd = \"wget %s\" % url\n",
    "!$cmd\n",
    "cmd = \"unzip country_centroids.zip -d gothos\"\n",
    "!$cmd"
   ]
  },
  {
   "cell_type": "code",
   "execution_count": null,
   "metadata": {},
   "outputs": [],
   "source": [
    "# Download Gapminder centroids\n",
    "url = \"'https://waffle-server.gapminder.org/api/ddf/ql/?_language=en&from=entities&animatable=time&select_key@=geo;&value@=name&=latitude&=longitude&=world/_4region;;&where_$and@_is--country:true;;;&join_;&order/_by@=rank'\"\n",
    "cmd = \"wget %s -O gapminder.json\" % url\n",
    "!$cmd"
   ]
  },
  {
   "cell_type": "code",
   "execution_count": null,
   "metadata": {},
   "outputs": [],
   "source": []
  }
 ],
 "metadata": {
  "kernelspec": {
   "display_name": "Python 2",
   "language": "python",
   "name": "python2"
  },
  "language_info": {
   "codemirror_mode": {
    "name": "ipython",
    "version": 2
   },
   "file_extension": ".py",
   "mimetype": "text/x-python",
   "name": "python",
   "nbconvert_exporter": "python",
   "pygments_lexer": "ipython2",
   "version": "2.7.13"
  }
 },
 "nbformat": 4,
 "nbformat_minor": 1
}
