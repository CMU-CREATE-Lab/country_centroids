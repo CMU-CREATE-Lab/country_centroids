{
 "metadata": {
  "name": "",
  "signature": "sha256:9fc64a15290c521320c522f8b5dc5d53be3f918ef7dadf07ea4fe1142405b494"
 },
 "nbformat": 3,
 "nbformat_minor": 0,
 "worksheets": [
  {
   "cells": [
    {
     "cell_type": "code",
     "collapsed": false,
     "input": [
      "url = \"http://gothos.info/resource_files/country_centroids.zip\"\n",
      "cmd = \"wget %s\" % url\n",
      "!$cmd"
     ],
     "language": "python",
     "metadata": {},
     "outputs": [
      {
       "output_type": "stream",
       "stream": "stdout",
       "text": [
        "--2017-04-05 16:34:34--  http://gothos.info/resource_files/country_centroids.zip\r\n",
        "Resolving gothos.info... "
       ]
      },
      {
       "output_type": "stream",
       "stream": "stdout",
       "text": [
        "199.58.84.77\r\n",
        "Connecting to gothos.info|199.58.84.77|:80... "
       ]
      },
      {
       "output_type": "stream",
       "stream": "stdout",
       "text": [
        "connected.\r\n",
        "HTTP request sent, awaiting response... "
       ]
      },
      {
       "output_type": "stream",
       "stream": "stdout",
       "text": [
        "200 OK\r\n",
        "Length: 24597 (24K) [application/zip]\r\n",
        "Saving to: 'country_centroids.zip'\r\n",
        "\r\n",
        "\r",
        "country_centroids.z   0%[                      ]       0  --.-KB/s             "
       ]
      },
      {
       "output_type": "stream",
       "stream": "stdout",
       "text": [
        "\r",
        "country_centroids.z 100%[=====================>]  24.02K  --.-KB/s   in 0.08s  \r\n",
        "\r\n",
        "2017-04-05 16:34:34 (294 KB/s) - 'country_centroids.zip' saved [24597/24597]\r\n",
        "\r\n"
       ]
      }
     ],
     "prompt_number": 1
    },
    {
     "cell_type": "code",
     "collapsed": false,
     "input": [
      "cmd = \"unzip country_centroids.zip -d gothos\"\n",
      "!$cmd"
     ],
     "language": "python",
     "metadata": {},
     "outputs": [
      {
       "output_type": "stream",
       "stream": "stdout",
       "text": [
        "Archive:  country_centroids.zip\r\n",
        "  inflating: gothos/country_centroids_all.csv  \r\n",
        "  inflating: gothos/country_centroids_primary.csv  \r\n",
        "  inflating: gothos/country_centroids_README.xml  \r\n"
       ]
      }
     ],
     "prompt_number": 4
    },
    {
     "cell_type": "code",
     "collapsed": false,
     "input": [
      "url = \"'https://waffle-server.gapminder.org/api/ddf/ql/?_language=en&from=entities&animatable=time&select_key@=geo;&value@=name&=latitude&=longitude&=world/_4region;;&where_$and@_is--country:true;;;&join_;&order/_by@=rank'\"\n",
      "cmd = \"wget %s -O gapminder.json\" % url\n",
      "!$cmd"
     ],
     "language": "python",
     "metadata": {},
     "outputs": [
      {
       "output_type": "stream",
       "stream": "stdout",
       "text": [
        "--2017-04-05 16:55:42--  https://waffle-server.gapminder.org/api/ddf/ql/?_language=en&from=entities&animatable=time&select_key@=geo;&value@=name&=latitude&=longitude&=world/_4region;;&where_$and@_is--country:true;;;&join_;&order/_by@=rank\r\n",
        "Resolving waffle-server.gapminder.org... "
       ]
      },
      {
       "output_type": "stream",
       "stream": "stdout",
       "text": [
        "104.25.150.112, 104.25.149.112\r\n",
        "Connecting to waffle-server.gapminder.org|104.25.150.112|:443... "
       ]
      },
      {
       "output_type": "stream",
       "stream": "stdout",
       "text": [
        "connected.\r\n"
       ]
      },
      {
       "output_type": "stream",
       "stream": "stdout",
       "text": [
        "HTTP request sent, awaiting response... "
       ]
      },
      {
       "output_type": "stream",
       "stream": "stdout",
       "text": [
        "200 OK\r\n",
        "Length: 11464 (11K) [application/json]\r\n",
        "Saving to: 'gapminder.json'\r\n",
        "\r\n",
        "\r",
        "gapminder.json        0%[                      ]       0  --.-KB/s             "
       ]
      },
      {
       "output_type": "stream",
       "stream": "stdout",
       "text": [
        "\r",
        "gapminder.json      100%[=====================>]  11.20K  --.-KB/s   in 0.02s  \r\n",
        "\r\n",
        "2017-04-05 16:55:42 (577 KB/s) - 'gapminder.json' saved [11464/11464]\r\n",
        "\r\n"
       ]
      }
     ],
     "prompt_number": 7
    },
    {
     "cell_type": "code",
     "collapsed": false,
     "input": [],
     "language": "python",
     "metadata": {},
     "outputs": []
    }
   ],
   "metadata": {}
  }
 ]
}