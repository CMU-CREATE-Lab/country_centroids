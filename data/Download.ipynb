{
 "cells": [
  {
   "cell_type": "code",
   "execution_count": 1,
   "metadata": {},
   "outputs": [
    {
     "name": "stdout",
     "output_type": "stream",
     "text": [
      "--2017-04-05 16:34:34--  http://gothos.info/resource_files/country_centroids.zip\n",
      "Resolving gothos.info... 199.58.84.77\n",
      "Connecting to gothos.info|199.58.84.77|:80... connected.\n",
      "HTTP request sent, awaiting response... 200 OK\n",
      "Length: 24597 (24K) [application/zip]\n",
      "Saving to: 'country_centroids.zip'\n",
      "\n",
      "country_centroids.z 100%[=====================>]  24.02K  --.-KB/s   in 0.08s  \n",
      "\n",
      "2017-04-05 16:34:34 (294 KB/s) - 'country_centroids.zip' saved [24597/24597]\n",
      "\n"
     ]
    }
   ],
   "source": [
    "url = \"http://gothos.info/resource_files/country_centroids.zip\"\n",
    "cmd = \"wget %s\" % url\n",
    "!$cmd"
   ]
  },
  {
   "cell_type": "code",
   "execution_count": 4,
   "metadata": {},
   "outputs": [
    {
     "name": "stdout",
     "output_type": "stream",
     "text": [
      "Archive:  country_centroids.zip\r\n",
      "  inflating: gothos/country_centroids_all.csv  \r\n",
      "  inflating: gothos/country_centroids_primary.csv  \r\n",
      "  inflating: gothos/country_centroids_README.xml  \r\n"
     ]
    }
   ],
   "source": [
    "cmd = \"unzip country_centroids.zip -d gothos\"\n",
    "!$cmd"
   ]
  },
  {
   "cell_type": "code",
   "execution_count": 7,
   "metadata": {},
   "outputs": [
    {
     "name": "stdout",
     "output_type": "stream",
     "text": [
      "--2017-04-05 16:55:42--  https://waffle-server.gapminder.org/api/ddf/ql/?_language=en&from=entities&animatable=time&select_key@=geo;&value@=name&=latitude&=longitude&=world/_4region;;&where_$and@_is--country:true;;;&join_;&order/_by@=rank\n",
      "Resolving waffle-server.gapminder.org... 104.25.150.112, 104.25.149.112\n",
      "Connecting to waffle-server.gapminder.org|104.25.150.112|:443... connected.\n",
      "HTTP request sent, awaiting response... 200 OK\n",
      "Length: 11464 (11K) [application/json]\n",
      "Saving to: 'gapminder.json'\n",
      "\n",
      "gapminder.json      100%[=====================>]  11.20K  --.-KB/s   in 0.02s  \n",
      "\n",
      "2017-04-05 16:55:42 (577 KB/s) - 'gapminder.json' saved [11464/11464]\n",
      "\n"
     ]
    }
   ],
   "source": [
    "url = \"'https://waffle-server.gapminder.org/api/ddf/ql/?_language=en&from=entities&animatable=time&select_key@=geo;&value@=name&=latitude&=longitude&=world/_4region;;&where_$and@_is--country:true;;;&join_;&order/_by@=rank'\"\n",
    "cmd = \"wget %s -O gapminder.json\" % url\n",
    "!$cmd"
   ]
  },
  {
   "cell_type": "code",
   "execution_count": null,
   "metadata": {},
   "outputs": [],
   "source": []
  }
 ],
 "metadata": {
  "kernelspec": {
   "display_name": "Python 2",
   "language": "python",
   "name": "python2"
  },
  "language_info": {
   "codemirror_mode": {
    "name": "ipython",
    "version": 2
   },
   "file_extension": ".py",
   "mimetype": "text/x-python",
   "name": "python",
   "nbconvert_exporter": "python",
   "pygments_lexer": "ipython2",
   "version": "2.7.13"
  }
 },
 "nbformat": 4,
 "nbformat_minor": 1
}
