{
 "cells": [
  {
   "cell_type": "code",
   "execution_count": null,
   "metadata": {},
   "outputs": [],
   "source": [
    "import csv, json, math\n",
    "\n",
    "def LonLatToWebMercator(lon,lat):\n",
    "    if lon != \"\" and lat != \"\":        \n",
    "        lon = float(lon)\n",
    "        lat = float(lat)\n",
    "        if lat > 85.05113:\n",
    "            lat = 85.05113\n",
    "        if lat < -85.05113:\n",
    "            lat = -85.05113\n",
    "        x = (lon + 180.0) * 256.0 / 360.0\n",
    "        y = 128.0 - math.log(math.tan((lat + 90.0) * math.pi / 360.0)) * 128.0 / math.pi\n",
    "    else:\n",
    "        x = \"\"\n",
    "        y = \"\"\n",
    "    return [x, y]"
   ]
  },
  {
   "cell_type": "code",
   "execution_count": null,
   "metadata": {},
   "outputs": [],
   "source": [
    "country_geojson = {\n",
    "    \"type\": \"FeatureCollections\",\n",
    "    \"features\": []\n",
    "}\n",
    "filename = \"gapminder.json\"\n",
    "with open(filename) as f:\n",
    "    gapminder_data = json.load(f)\n",
    "    for country in gapminder_data['rows']:\n",
    "        gapminder_geo = country[0]\n",
    "        gapminder_name = country[1]\n",
    "        lat = country[2]\n",
    "        lng = country[3]\n",
    "        x,y = LonLatToWebMercator(lng, lat)        \n",
    "        feature = {\n",
    "            \"type\": \"Feature\",\n",
    "            \"geometry\": {\"type\": \"Point\", \"coordinates\": [lng, lat]},\n",
    "            \"properties\": {\"names\": [gapminder_name, gapminder_geo], \"webmercator\": [x,y]}\n",
    "        }\n",
    "        country_geojson[\"features\"].append(feature)\n",
    "with open('gapminder.geojson', 'w') as f:\n",
    "    json.dump(country_geojson, f, indent=4)\n",
    "    \n",
    "# gapminder_data['headers']\n",
    "# [u'geo', u'name', u'latitude', u'longitude', u'world_4region']\n",
    "# gapminder_data['rows'][0]\n",
    "# [u'afg', u'Afghanistan', 33, 66, u'asia']"
   ]
  },
  {
   "cell_type": "code",
   "execution_count": null,
   "metadata": {},
   "outputs": [],
   "source": [
    "filename = \"gapminder.geojson\"\n",
    "with open(filename) as f:\n",
    "    data = json.load(f)\n",
    "# data['features'][0]\n",
    "# {u'geometry': {u'coordinates': [66, 33], u'type': u'Point'},\n",
    "#  u'properties': {u'gapminder_geo': u'afg',\n",
    "#  u'gapminder_name': u'Afghanistan',\n",
    "#  u'webmercator': [174.93333333333334, 103.11672116189807]},\n",
    "#  u'type': u'Feature'}\n"
   ]
  },
  {
   "cell_type": "code",
   "execution_count": null,
   "metadata": {},
   "outputs": [],
   "source": [
    "data['features'][0]"
   ]
  },
  {
   "cell_type": "code",
   "execution_count": null,
   "metadata": {},
   "outputs": [],
   "source": [
    "country_data = []\n",
    "filename = \"gothos/country_centroids_all.csv\"\n",
    "with open(filename) as csvfile:\n",
    "    reader = csv.DictReader(csvfile, delimiter=\"\\t\")\n",
    "    for row in reader:\n",
    "        country_data.append(row)\n",
    "#country_data[0]\n",
    "#{'AFFIL': '',\n",
    "# 'DMS_LAT': '330000',\n",
    "# 'DMS_LONG': '660000',\n",
    "# 'DSG': 'PCLI',\n",
    "# 'FIPS10': 'AF',\n",
    "# 'FULL_NAME': 'Islamic Republic of Afghanistan',\n",
    "# 'ISO3136': 'AF',\n",
    "# 'JOG': 'NI42-09',\n",
    "# 'LAT': '33',\n",
    "# 'LONG': '66',\n",
    "# 'MGRS': '42STB1970055286',\n",
    "# 'MOD_DATE': '2009-04-10',\n",
    "# 'SHORT_NAME': 'Afghanistan'}"
   ]
  },
  {
   "cell_type": "code",
   "execution_count": null,
   "metadata": {},
   "outputs": [],
   "source": [
    "i = 0\n",
    "for feature in data['features']:\n",
    "    gapminder_name = feature['properties']['names'][0]    \n",
    "    match = False\n",
    "    for row in country_data:\n",
    "        short_name = row['SHORT_NAME']\n",
    "        if short_name == gapminder_name:\n",
    "            match = True\n",
    "            data['features'][i]['properties']['names'].append(row['ISO3136'])             \n",
    "            break\n",
    "    if not match:\n",
    "        print \"Did not find %s\" % gapminder_name\n",
    "    i+= 1"
   ]
  },
  {
   "cell_type": "code",
   "execution_count": null,
   "metadata": {},
   "outputs": [],
   "source": [
    "with open('gapminder.geojson', 'w') as f:\n",
    "    json.dump(data, f, indent=4)\n"
   ]
  },
  {
   "cell_type": "code",
   "execution_count": null,
   "metadata": {},
   "outputs": [],
   "source": [
    "filename = \"ne_50m_admin_0_countries.geo.json\"\n",
    "with open(filename) as f:\n",
    "    polygon_data = json.load(f)"
   ]
  },
  {
   "cell_type": "code",
   "execution_count": null,
   "metadata": {},
   "outputs": [],
   "source": [
    "polygon_data['features'][1]['properties']"
   ]
  },
  {
   "cell_type": "code",
   "execution_count": null,
   "metadata": {},
   "outputs": [],
   "source": [
    "for feature in polygon_data['features']:\n",
    "    properties = feature['properties']\n",
    "    if properties['name'] != properties['name_long'] or \\\n",
    "        properties['name'] != properties['name_sort'] or \\\n",
    "        properties['name_sort'] != properties['name_long']:\n",
    "        print \"MISMATCH %s %s %s\" % (properties['name'], properties['name_long'], properties['name_sort'])"
   ]
  },
  {
   "cell_type": "code",
   "execution_count": null,
   "metadata": {},
   "outputs": [],
   "source": [
    "country_geojson = {\n",
    "    \"type\": \"FeatureCollections\",\n",
    "    \"features\": []\n",
    "}\n",
    "filename = \"country_polygons.geojson\"\n",
    "for feature in polygon_data['features']:\n",
    "    geometry = feature['geometry']    \n",
    "    properties = feature['properties']\n",
    "    name_keys = ['abbrev','adm0_a3','admin','formal_en','iso_a2','iso_a3','iso_n3','name','name_long','name_sort']\n",
    "    names = []\n",
    "    for val in name_keys:\n",
    "        if properties[val] is not None:\n",
    "            names.append(properties[val])\n",
    "    feature = {\n",
    "        \"type\": \"Feature\",\n",
    "        \"geometry\": geometry,\n",
    "        \"properties\": { 'names': names}\n",
    "        }\n",
    "    country_geojson[\"features\"].append(feature)\n",
    "with open(filename, 'w') as f:\n",
    "    json.dump(country_geojson, f, indent=4)\n"
   ]
  },
  {
   "cell_type": "code",
   "execution_count": null,
   "metadata": {},
   "outputs": [],
   "source": [
    "for feature in data['features']:\n",
    "    properties = feature['properties']\n",
    "    names = properties['names']\n",
    "    match = False\n",
    "    for country in country_geojson['features']:\n",
    "        country_names = country['properties']['names']\n",
    "        for country_name in country_names:\n",
    "            for name in names:\n",
    "                if name == country_name:\n",
    "                    match = True\n",
    "                if match:\n",
    "                    break\n",
    "        if match:\n",
    "            names += country_names\n",
    "#            print \"MATCH FOUND: \" + names[0]\n",
    "#            print \"             \" + \",\".join(country_names)\n",
    "            break\n",
    "\n",
    "        "
   ]
  },
  {
   "cell_type": "code",
   "execution_count": null,
   "metadata": {},
   "outputs": [],
   "source": [
    "with open('gapminder.geojson', 'w') as f:\n",
    "    json.dump(data, f, indent=4)\n"
   ]
  },
  {
   "cell_type": "code",
   "execution_count": null,
   "metadata": {},
   "outputs": [],
   "source": []
  }
 ],
 "metadata": {
  "kernelspec": {
   "display_name": "Python 2",
   "language": "python",
   "name": "python2"
  },
  "language_info": {
   "codemirror_mode": {
    "name": "ipython",
    "version": 2
   },
   "file_extension": ".py",
   "mimetype": "text/x-python",
   "name": "python",
   "nbconvert_exporter": "python",
   "pygments_lexer": "ipython2",
   "version": "2.7.13"
  }
 },
 "nbformat": 4,
 "nbformat_minor": 1
}
