{
 "cells": [
  {
   "cell_type": "code",
   "execution_count": 254,
   "metadata": {
    "collapsed": true
   },
   "outputs": [],
   "source": [
    "import csv, json, math, re\n",
    "from random import uniform\n",
    "from shapely.geometry import shape, Point, Polygon\n",
    "\n",
    "def LonLatToWebMercator(lon,lat):\n",
    "    if lon != \"\" and lat != \"\":        \n",
    "        lon = float(lon)\n",
    "        lat = float(lat)\n",
    "        if lat > 85.05113:\n",
    "            lat = 85.05113\n",
    "        if lat < -85.05113:\n",
    "            lat = -85.05113\n",
    "        x = (lon + 180.0) * 256.0 / 360.0\n",
    "        y = 128.0 - math.log(math.tan((lat + 90.0) * math.pi / 360.0)) * 128.0 / math.pi\n",
    "    else:\n",
    "        x = \"\"\n",
    "        y = \"\"\n",
    "    return [x, y]\n"
   ]
  },
  {
   "cell_type": "code",
   "execution_count": 240,
   "metadata": {
    "collapsed": true
   },
   "outputs": [],
   "source": [
    "# Convert CShapes (http://downloads.weidmann.ws/cshapes/Shapefiles/) Shapefile into GeoJSON\n",
    "shpFilename = \"cshapes/cshapes.shp\"\n",
    "geojsonFilename = \"cshapes/cshaspes.geojson\"\n",
    "cmd = \"ogr2ogr -f GeoJSON %s %s\" % (geojsonFilename, shpFilename)\n",
    "!$cmd"
   ]
  },
  {
   "cell_type": "code",
   "execution_count": 255,
   "metadata": {
    "collapsed": true
   },
   "outputs": [],
   "source": [
    "filename = \"all.csv\"\n",
    "all_data = []\n",
    "with open(filename) as f:\n",
    "    reader = csv.DictReader(f)\n",
    "    for row in reader:\n",
    "        all_data.append(row)"
   ]
  },
  {
   "cell_type": "code",
   "execution_count": 256,
   "metadata": {
    "collapsed": true
   },
   "outputs": [],
   "source": [
    "filename = \"gapminder.json\"\n",
    "with open(filename) as f:\n",
    "    gapminder_data = json.load(f)"
   ]
  },
  {
   "cell_type": "code",
   "execution_count": 257,
   "metadata": {},
   "outputs": [
    {
     "name": "stdout",
     "output_type": "stream",
     "text": [
      "No match found for Bonaire, Sint Eustatius and Saba (BES) in Gapminder\n",
      "No match found for French Southern Territories (ATF) in Gapminder\n",
      "No match found for Heard Island and McDonald Islands (HMD) in Gapminder\n",
      "No match found for Saint Barthélemy (BLM) in Gapminder\n",
      "No match found for United States Minor Outlying Islands (UMI) in Gapminder\n"
     ]
    },
    {
     "name": "stderr",
     "output_type": "stream",
     "text": [
      "/usr/local/lib/python2.7/site-packages/ipykernel_launcher.py:9: UnicodeWarning: Unicode equal comparison failed to convert both arguments to Unicode - interpreting them as being unequal\n",
      "  if __name__ == '__main__':\n"
     ]
    }
   ],
   "source": [
    "#Data missing from Gapminder\n",
    "for country in all_data:\n",
    "    alpha3 = country['alpha-3']\n",
    "    name = country['name']\n",
    "    match = False\n",
    "    for row in gapminder_data['rows']:\n",
    "        gapminder_geo = row[0].upper()\n",
    "        gapminder_name = row[1]\n",
    "        if gapminder_geo == alpha3 or gapminder_name == name:\n",
    "            match = True\n",
    "            break\n",
    "    if not match:\n",
    "        print \"No match found for %s (%s) in Gapminder\" % (country[\"name\"], alpha3)"
   ]
  },
  {
   "cell_type": "code",
   "execution_count": 258,
   "metadata": {},
   "outputs": [
    {
     "name": "stderr",
     "output_type": "stream",
     "text": [
      "/usr/local/lib/python2.7/site-packages/ipykernel_launcher.py:9: UnicodeWarning: Unicode equal comparison failed to convert both arguments to Unicode - interpreting them as being unequal\n",
      "  if __name__ == '__main__':\n"
     ]
    }
   ],
   "source": [
    "#Data missing from ISO\n",
    "for row in gapminder_data['rows']:\n",
    "    gapminder_geo = row[0].upper()\n",
    "    gapminder_name = row[1]\n",
    "    for country in all_data:\n",
    "        alpha3 = country['alpha-3']\n",
    "        name = country['name']\n",
    "        match = False\n",
    "        if gapminder_geo == alpha3 or gapminder_name == name:\n",
    "            match = True\n",
    "            break\n",
    "    if not match and row[2] != \"\":\n",
    "        print \"No match really found for %s in All\" % row[1]\n"
   ]
  },
  {
   "cell_type": "code",
   "execution_count": 259,
   "metadata": {},
   "outputs": [
    {
     "data": {
      "text/plain": [
       "{'alpha-2': 'AF',\n",
       " 'alpha-3': 'AFG',\n",
       " 'country-code': '004',\n",
       " 'iso_3166-2': 'ISO 3166-2:AF',\n",
       " 'name': 'Afghanistan',\n",
       " 'region': 'Asia',\n",
       " 'region-code': '142',\n",
       " 'sub-region': 'Southern Asia',\n",
       " 'sub-region-code': '034'}"
      ]
     },
     "execution_count": 259,
     "metadata": {},
     "output_type": "execute_result"
    }
   ],
   "source": [
    "all_data[0]"
   ]
  },
  {
   "cell_type": "code",
   "execution_count": 260,
   "metadata": {
    "collapsed": true
   },
   "outputs": [],
   "source": [
    "country_centroid_data = []\n",
    "filename = \"gothos/country_centroids_all.csv\"\n",
    "with open(filename) as csvfile:\n",
    "    reader = csv.DictReader(csvfile, delimiter=\"\\t\")\n",
    "    for row in reader:\n",
    "        country_centroid_data.append(row)\n",
    "#country_centroid_data[0]\n",
    "#{'AFFIL': '',\n",
    "# 'DMS_LAT': '330000',\n",
    "# 'DMS_LONG': '660000',\n",
    "# 'DSG': 'PCLI',\n",
    "# 'FIPS10': 'AF',\n",
    "# 'FULL_NAME': 'Islamic Republic of Afghanistan',\n",
    "# 'ISO3136': 'AF',\n",
    "# 'JOG': 'NI42-09',\n",
    "# 'LAT': '33',\n",
    "# 'LONG': '66',\n",
    "# 'MGRS': '42STB1970055286',\n",
    "# 'MOD_DATE': '2009-04-10',\n",
    "# 'SHORT_NAME': 'Afghanistan'}\n"
   ]
  },
  {
   "cell_type": "code",
   "execution_count": 261,
   "metadata": {},
   "outputs": [
    {
     "name": "stderr",
     "output_type": "stream",
     "text": [
      "/usr/local/lib/python2.7/site-packages/ipykernel_launcher.py:17: UnicodeWarning: Unicode equal comparison failed to convert both arguments to Unicode - interpreting them as being unequal\n"
     ]
    },
    {
     "name": "stdout",
     "output_type": "stream",
     "text": [
      "No match found for Bonaire, Sint Eustatius and Saba (BES) in Gapminder\n",
      "No match found for French Southern Territories (ATF) in Gapminder\n",
      "No match found for Heard Island and McDonald Islands (HMD) in Gapminder\n",
      "No match found for Saint Barthélemy (BLM) in Gapminder\n",
      "No match found for United States Minor Outlying Islands (UMI) in Gapminder\n",
      "Ashmore and Cartier Islands\n",
      "Bassas da India\n",
      "Clipperton Island\n",
      "Coral Sea Islands\n",
      "Europa Island\n",
      "Glorioso Islands\n",
      "Juan de Nova Island\n",
      "Kosovo\n",
      "Tromelin Island\n"
     ]
    },
    {
     "name": "stderr",
     "output_type": "stream",
     "text": [
      "/usr/local/lib/python2.7/site-packages/ipykernel_launcher.py:61: UnicodeWarning: Unicode equal comparison failed to convert both arguments to Unicode - interpreting them as being unequal\n"
     ]
    }
   ],
   "source": [
    "# Construct initial geojson\n",
    "country_geojson = {\n",
    "    \"type\": \"FeatureCollections\",\n",
    "    \"features\": []\n",
    "}\n",
    "\n",
    "for country in all_data:\n",
    "    alpha3 = country['alpha-3']\n",
    "    num3 = country['country-code']\n",
    "    name = country['name']\n",
    "    match = False\n",
    "    for row in gapminder_data['rows']:\n",
    "        gapminder_geo = row[0].upper()\n",
    "        gapminder_name = row[1]\n",
    "        lng = row[3]\n",
    "        lat = row[2]\n",
    "        if gapminder_geo == alpha3 or gapminder_name == name:\n",
    "            match = True            \n",
    "            x,y = LonLatToWebMercator(lng, lat)        \n",
    "            feature = {\n",
    "                \"type\": \"Feature\",\n",
    "                \"geometry\": {\"type\": \"Point\", \"coordinates\": [lng, lat]},\n",
    "                \"properties\": {\n",
    "                    \"iso_alpha-3\": alpha3,\n",
    "                    \"iso_num-3\": num3,\n",
    "                    \"names\": [country['alpha-2'], country['alpha-3'], country['country-code'], country['name'], gapminder_name, gapminder_geo.lower()], \n",
    "                    \"webmercator\": [x,y]\n",
    "                    }\n",
    "            }\n",
    "            country_geojson[\"features\"].append(feature)            \n",
    "            break\n",
    "    if not match:\n",
    "        print \"No match found for %s (%s) in Gapminder\" % (country[\"name\"], alpha3)\n",
    "        with open(\"%s_adm0.geojson\" % alpha3) as f:\n",
    "            geojsonFile = json.load(f)\n",
    "            polygon = shape(geojsonFile[\"features\"][0][\"geometry\"])\n",
    "            centroid = polygon.centroid.__geo_interface__['coordinates']\n",
    "            x,y = LonLatToWebMercator(centroid[0], centroid[1])        \n",
    "            feature = {\n",
    "                \"type\": \"Feature\",\n",
    "                \"geometry\": {\"type\": \"Point\", \"coordinates\": [centroid[0], centroid[1]]},\n",
    "                \"properties\": {\n",
    "                    \"iso_alpha-3\": alpha3,\n",
    "                    \"iso_num-3\": num3,\n",
    "                    \"names\": [country['alpha-2'], country['alpha-3'], country['country-code'], country['name']], \n",
    "                    \"webmercator\": [x,y]\n",
    "                    }\n",
    "            }\n",
    "            country_geojson[\"features\"].append(feature)            \n",
    "        \n",
    "# Add extra names to GeoJSON\n",
    "\n",
    "for row in country_centroid_data:\n",
    "    short_name = row[\"SHORT_NAME\"]\n",
    "    full_name = row[\"FULL_NAME\"]\n",
    "    iso3136 = row[\"ISO3136\"]\n",
    "    match = False\n",
    "    for feature in country_geojson['features']:\n",
    "        names = feature[\"properties\"][\"names\"]\n",
    "        for name in names:\n",
    "            if short_name == name or iso3136 == name:\n",
    "                match = True\n",
    "                names.append(full_name)\n",
    "                break\n",
    "    if not match:\n",
    "        print short_name\n",
    "with open('gapminder.geojson', 'w') as f:\n",
    "    json.dump(country_geojson, f, indent=4)    \n",
    "        \n",
    "with open('gapminder-min.geojson', 'w') as f:\n",
    "    json.dump(country_geojson, f)    \n"
   ]
  },
  {
   "cell_type": "code",
   "execution_count": 262,
   "metadata": {
    "collapsed": true
   },
   "outputs": [],
   "source": [
    "# Add some name variants\n",
    "# 1) Republic$ becomes Rep. or Rep\n",
    "for feature in country_geojson[\"features\"]:\n",
    "    names = feature[\"properties\"][\"names\"]\n",
    "    for name in names:\n",
    "        subnames = name.split(\" \")\n",
    "        if subnames[-1] == \"Republic\":\n",
    "            names.append(name.replace(\"Republic\", \"Rep.\"))\n",
    "            names.append(name.replace(\"Republic\", \"Rep\"))\n",
    "    feature[\"properties\"][\"names\"] = list(set(names))\n",
    "            \n",
    "with open('gapminder.geojson', 'w') as f:\n",
    "    json.dump(country_geojson, f, indent=4)    \n",
    "        \n",
    "with open('gapminder-min.geojson', 'w') as f:\n",
    "    json.dump(country_geojson, f)    \n"
   ]
  },
  {
   "cell_type": "code",
   "execution_count": 263,
   "metadata": {
    "collapsed": true
   },
   "outputs": [],
   "source": [
    "# Add more name variants\n",
    "# 2) Specifics from a CSV\n",
    "variants = {\n",
    "    (u\"Côte d’Ivoire\", \"CIV\"),\n",
    "    (\"Trinidad & Tobago\", \"TTO\"),\n",
    "    (\"China, P.R.\", \"CHN\"),\n",
    "    (\"Korea, North\", \"PRK\"),\n",
    "    (\"Korea, South\", \"KOR\"),\n",
    "    (\"Laos\", \"LAO\"),\n",
    "    (\"Timor Leste\", \"TLS\"),\n",
    "    (\"Bosnia-Herzegovina\", \"BIH\"),\n",
    "    (\"UK\", \"GBR\"),\n",
    "    (\"UAE\", \"ARE\")\n",
    "}\n",
    "for variant in variants:\n",
    "    for feature in country_geojson[\"features\"]:\n",
    "        name = feature[\"properties\"][\"iso_alpha-3\"]\n",
    "        if name == variant[1]:\n",
    "            feature[\"properties\"][\"names\"].append(variant[0])            \n",
    "            feature[\"properties\"][\"names\"] = list(set(feature[\"properties\"][\"names\"]))\n",
    "            break\n",
    "            \n",
    "with open('gapminder.geojson', 'w') as f:\n",
    "    json.dump(country_geojson, f, indent=4)    \n",
    "        \n",
    "with open('gapminder-min.geojson', 'w') as f:\n",
    "    json.dump(country_geojson, f)    \n"
   ]
  },
  {
   "cell_type": "code",
   "execution_count": 264,
   "metadata": {
    "collapsed": true
   },
   "outputs": [],
   "source": [
    "# Add more variants\n",
    "# 3) historical variants \n",
    "with open(\"cshapes/cshapes.geojson\") as f:\n",
    "    cshapes_geojson = json.load(f)\n",
    "    \n",
    "variants = {\n",
    "    (\"Czechoslovakia\", \"Czechoslovakia\", \"200\"),\n",
    "    (\"German DR\", \"Germany Democratic Republic\", \"278\"),\n",
    "    (\"Germany (West)\", \"Germany Federal Republic\", \"280\"),\n",
    "    (\"Kosovo\", \"Kosovo\", \"XKX\"),\n",
    "    (\"Yugoslavia (former)\", \"Yugoslavia\", \"890\"),\n",
    "    (\"USSR\", \"USSR\", \"810\"),\n",
    "    (\"Yemen, North\", \"Yemen Arab Republic\", \"866\"),\n",
    "    (\"Serbia and Montenegro\", \"Serbia and Montenegro\", \"891\")\n",
    "}\n",
    "\n",
    "for variant in variants:\n",
    "    for feature in cshapes_geojson[\"features\"]:\n",
    "        properties = feature[\"properties\"]\n",
    "        if properties[\"CNTRY_NAME\"] == variant[1]:\n",
    "            polygon = shape(feature[\"geometry\"])\n",
    "            centroid = polygon.centroid.__geo_interface__['coordinates']\n",
    "            x,y = LonLatToWebMercator(centroid[0], centroid[1])        \n",
    "            feature = {\n",
    "                \"type\": \"Feature\",\n",
    "                \"geometry\": {\"type\": \"Point\", \"coordinates\": [centroid[0], centroid[1]]},\n",
    "                \"properties\": {\n",
    "                    \"iso_alpha-3\": properties['ISO1AL3'] if properties['ISO1AL3'] is not None else \"XKX\",\n",
    "                    \"iso_num-3\": variant[2],\n",
    "                    \"names\": list(set([variant[2], variant[0], properties['CNTRY_NAME'], properties['ISONAME'] if properties['ISONAME'] is not None else \"XKX\", properties['ISO1AL3'] if properties['ISO1AL3'] is not None else \"XKX\"])), \n",
    "                    \"webmercator\": [x,y]\n",
    "                    }\n",
    "            }\n",
    "            country_geojson[\"features\"].append(feature)            \n",
    "            break\n",
    "            \n",
    "with open('gapminder.geojson', 'w') as f:\n",
    "    json.dump(country_geojson, f, indent=4)    \n",
    "        \n",
    "with open('gapminder-min.geojson', 'w') as f:\n",
    "    json.dump(country_geojson, f)    \n"
   ]
  },
  {
   "cell_type": "code",
   "execution_count": 265,
   "metadata": {
    "collapsed": true
   },
   "outputs": [],
   "source": [
    "# More variants\n",
    "# 4) Map \"USSR/Russia\" to Russia\n",
    "variant = {\"iso_num-3\": \"643\", \"name\": \"USSR/Russia\"}\n",
    "for feature in country_geojson[\"features\"]:\n",
    "    if feature[\"properties\"][\"iso_num-3\"] == variant[\"iso_num-3\"]:\n",
    "        feature[\"properties\"][\"names\"].append(variant[\"name\"])\n",
    "\n",
    "with open('gapminder.geojson', 'w') as f:\n",
    "    json.dump(country_geojson, f, indent=4)    \n",
    "        \n",
    "with open('gapminder-min.geojson', 'w') as f:\n",
    "    json.dump(country_geojson, f)    \n"
   ]
  },
  {
   "cell_type": "code",
   "execution_count": 266,
   "metadata": {
    "collapsed": true
   },
   "outputs": [],
   "source": [
    "# More variants\n",
    "# 5) From UNHCR country list\n",
    "variants = [\n",
    "    {\"name_en\": \"Curacao\", \"iso_num-3\": \"531\"},\n",
    "    {\"name_en\": \"Federal Republic of Yugoslavia\",\"iso_num-3\": \"890\"},\n",
    "    {\"name_en\": \"Hong Kong SAR, China\", \"iso_num-3\": \"344\"},\n",
    "    {\"name_en\": \"Kosovo (S/RES/1244 (1999))\", \"iso_num-3\": \"XKX\"},\n",
    "    {\"name_en\": \"Libyan Arab Jamahiriya\", \"iso_num-3\": \"434\"},\n",
    "    {\"name_en\": \"Macao SAR, China\",\"iso_num-3\": \"446\"},\n",
    "    {\"name_en\": \"Palestinian Territory, Occupied\", \"iso_num-3\": \"275\"},\n",
    "    {\"name_en\": \"Serbia (and Kosovo: S/RES/1244 (1999))\", \"iso_num-3\": \"688\"},\n",
    "    {\"name_en\": \"State of Palestine\", \"iso_num-3\": \"275\"},\n",
    "    {\"name_en\": \"The former Yugoslav Republic of Macedonia\", \"iso_num-3\": \"807\"},\n",
    "    {\"name_en\": \"Zaire\", \"iso_num-3\": \"180\"}\n",
    "]\n",
    "    \n",
    "\n",
    "for variant in variants:\n",
    "    for feature in country_geojson[\"features\"]:\n",
    "        if feature[\"properties\"][\"iso_num-3\"] == variant[\"iso_num-3\"]:\n",
    "            feature[\"properties\"][\"names\"].append(variant[\"name_en\"])\n",
    "            break\n",
    "\n",
    "with open('gapminder.geojson', 'w') as f:\n",
    "    json.dump(country_geojson, f, indent=4)    \n",
    "        \n",
    "with open('gapminder-min.geojson', 'w') as f:\n",
    "    json.dump(country_geojson, f)    \n"
   ]
  },
  {
   "cell_type": "code",
   "execution_count": null,
   "metadata": {
    "collapsed": true
   },
   "outputs": [],
   "source": [
    "len(cshapes_geojson[\"features\"])"
   ]
  },
  {
   "cell_type": "code",
   "execution_count": null,
   "metadata": {
    "collapsed": true
   },
   "outputs": [],
   "source": [
    "cshapes_geojson[\"features\"][231]['properties']"
   ]
  },
  {
   "cell_type": "code",
   "execution_count": null,
   "metadata": {
    "collapsed": true
   },
   "outputs": [],
   "source": [
    "i = 0\n",
    "for feature in country_geojson['features']:\n",
    "    gapminder_name = feature['properties']['names'][0]    \n",
    "    match = False\n",
    "    for row in country_data:\n",
    "        short_name = row['SHORT_NAME']\n",
    "        if short_name == gapminder_name:\n",
    "            match = True\n",
    "            country_geojson['features'][i]['properties']['names'].append(row['ISO3136'])             \n",
    "            break\n",
    "    if not match:\n",
    "        print \"Did not find %s\" % gapminder_name\n",
    "        i+= 1\n",
    "i"
   ]
  },
  {
   "cell_type": "code",
   "execution_count": null,
   "metadata": {
    "collapsed": true
   },
   "outputs": [],
   "source": [
    "with open('gapminder.geojson', 'w') as f:\n",
    "    json.dump(data, f, indent=4)\n"
   ]
  },
  {
   "cell_type": "code",
   "execution_count": null,
   "metadata": {
    "collapsed": true
   },
   "outputs": [],
   "source": [
    "filename = \"ne_50m_admin_0_countries.geo.json\"\n",
    "with open(filename) as f:\n",
    "    polygon_data = json.load(f)"
   ]
  },
  {
   "cell_type": "code",
   "execution_count": null,
   "metadata": {
    "collapsed": true
   },
   "outputs": [],
   "source": [
    "polygon_data['features'][1]['properties']"
   ]
  },
  {
   "cell_type": "code",
   "execution_count": null,
   "metadata": {
    "collapsed": true
   },
   "outputs": [],
   "source": [
    "for feature in polygon_data['features']:\n",
    "    properties = feature['properties']\n",
    "    if properties['name'] != properties['name_long'] or \\\n",
    "        properties['name'] != properties['name_sort'] or \\\n",
    "        properties['name_sort'] != properties['name_long']:\n",
    "        print \"MISMATCH %s %s %s\" % (properties['name'], properties['name_long'], properties['name_sort'])"
   ]
  },
  {
   "cell_type": "code",
   "execution_count": null,
   "metadata": {
    "collapsed": true
   },
   "outputs": [],
   "source": [
    "country_geojson = {\n",
    "    \"type\": \"FeatureCollections\",\n",
    "    \"features\": []\n",
    "}\n",
    "filename = \"country_polygons.geojson\"\n",
    "for feature in polygon_data['features']:\n",
    "    geometry = feature['geometry']    \n",
    "    properties = feature['properties']\n",
    "    name_keys = ['abbrev','adm0_a3','admin','formal_en','iso_a2','iso_a3','iso_n3','name','name_long','name_sort']\n",
    "    names = []\n",
    "    for val in name_keys:\n",
    "        if properties[val] is not None:\n",
    "            names.append(properties[val])\n",
    "    feature = {\n",
    "        \"type\": \"Feature\",\n",
    "        \"geometry\": geometry,\n",
    "        \"properties\": { 'names': names}\n",
    "        }\n",
    "    country_geojson[\"features\"].append(feature)\n",
    "with open(filename, 'w') as f:\n",
    "    json.dump(country_geojson, f, indent=4)\n"
   ]
  },
  {
   "cell_type": "code",
   "execution_count": null,
   "metadata": {
    "collapsed": true
   },
   "outputs": [],
   "source": [
    "for feature in data['features']:\n",
    "    properties = feature['properties']\n",
    "    names = properties['names']\n",
    "    match = False\n",
    "    for country in country_geojson['features']:\n",
    "        country_names = country['properties']['names']\n",
    "        for country_name in country_names:\n",
    "            for name in names:\n",
    "                if name == country_name:\n",
    "                    match = True\n",
    "                if match:\n",
    "                    break\n",
    "        if match:\n",
    "            names += country_names\n",
    "#            print \"MATCH FOUND: \" + names[0]\n",
    "#            print \"             \" + \",\".join(country_names)\n",
    "            break\n",
    "\n",
    "        "
   ]
  },
  {
   "cell_type": "code",
   "execution_count": null,
   "metadata": {
    "collapsed": true
   },
   "outputs": [],
   "source": [
    "with open('gapminder.geojson', 'w') as f:\n",
    "    json.dump(data, f, indent=4)\n"
   ]
  }
 ],
 "metadata": {
  "kernelspec": {
   "display_name": "Python 2",
   "language": "python",
   "name": "python2"
  },
  "language_info": {
   "codemirror_mode": {
    "name": "ipython",
    "version": 2
   },
   "file_extension": ".py",
   "mimetype": "text/x-python",
   "name": "python",
   "nbconvert_exporter": "python",
   "pygments_lexer": "ipython2",
   "version": "2.7.13"
  }
 },
 "nbformat": 4,
 "nbformat_minor": 1
}
