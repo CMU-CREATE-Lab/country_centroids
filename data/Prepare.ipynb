{
 "metadata": {
  "name": "",
  "signature": "sha256:8614e679dc38a0c69d5db05b3117382d84af5c68c8c391ef41c2e40d854cc9e5"
 },
 "nbformat": 3,
 "nbformat_minor": 0,
 "worksheets": [
  {
   "cells": [
    {
     "cell_type": "code",
     "collapsed": false,
     "input": [
      "import csv, json, math\n",
      "\n",
      "def LonLatToWebMercator(lon,lat):\n",
      "    if lon != \"\" and lat != \"\":        \n",
      "        lon = float(lon)\n",
      "        lat = float(lat)\n",
      "        if lat > 85.05113:\n",
      "            lat = 85.05113\n",
      "        if lat < -85.05113:\n",
      "            lat = -85.05113\n",
      "        x = (lon + 180.0) * 256.0 / 360.0\n",
      "        y = 128.0 - math.log(math.tan((lat + 90.0) * math.pi / 360.0)) * 128.0 / math.pi\n",
      "    else:\n",
      "        x = \"\"\n",
      "        y = \"\"\n",
      "    return [x, y]"
     ],
     "language": "python",
     "metadata": {},
     "outputs": [],
     "prompt_number": 5
    },
    {
     "cell_type": "code",
     "collapsed": false,
     "input": [
      "country_geojson = {\n",
      "    \"type\": \"FeatureCollections\",\n",
      "    \"features\": []\n",
      "}\n",
      "filename = \"gapminder.json\"\n",
      "with open(filename) as f:\n",
      "    gapminder_data = json.load(f)\n",
      "    for country in gapminder_data['rows']:\n",
      "        gapminder_geo = country[0]\n",
      "        gapminder_name = country[1]\n",
      "        lat = country[2]\n",
      "        lng = country[3]\n",
      "        x,y = LonLatToWebMercator(lng, lat)\n",
      "        feature = {\n",
      "            \"type\": \"Feature\",\n",
      "            \"geometry\": {\"type\": \"Point\", \"coordinates\": [lng, lat]},\n",
      "            \"properties\": {\"gapminder_name\": gapminder_name, \"gapminder_geo\": gapminder_geo, \"webmercator\": [x,y]}\n",
      "        }\n",
      "        country_geojson[\"features\"].append(feature)\n",
      "with open('gapminder.geojson', 'w') as f:\n",
      "    json.dump(country_geojson, f, indent=4)\n",
      "    \n",
      "# gapminder_data['headers']\n",
      "# [u'geo', u'name', u'latitude', u'longitude', u'world_4region']\n",
      "# gapminder_data['rows'][0]\n",
      "# [u'afg', u'Afghanistan', 33, 66, u'asia']"
     ],
     "language": "python",
     "metadata": {},
     "outputs": [],
     "prompt_number": 15
    },
    {
     "cell_type": "code",
     "collapsed": false,
     "input": [
      "filename = \"gapminder.geojson\"\n",
      "with open(filename) as f:\n",
      "    data = json.load(f)\n",
      "# data['features'][0]\n",
      "# {u'geometry': {u'coordinates': [66, 33], u'type': u'Point'},\n",
      "#  u'properties': {u'gapminder_geo': u'afg',\n",
      "#  u'gapminder_name': u'Afghanistan',\n",
      "#  u'webmercator': [174.93333333333334, 103.11672116189807]},\n",
      "#  u'type': u'Feature'}\n"
     ],
     "language": "python",
     "metadata": {},
     "outputs": [],
     "prompt_number": 19
    },
    {
     "cell_type": "code",
     "collapsed": false,
     "input": [
      "country_data = []\n",
      "filename = \"gothos/country_centroids_all.csv\"\n",
      "with open(filename) as csvfile:\n",
      "    reader = csv.DictReader(csvfile, delimiter=\"\\t\")\n",
      "    for row in reader:\n",
      "        country_data.append(row)\n",
      "#country_data[0]\n",
      "#{'AFFIL': '',\n",
      "# 'DMS_LAT': '330000',\n",
      "# 'DMS_LONG': '660000',\n",
      "# 'DSG': 'PCLI',\n",
      "# 'FIPS10': 'AF',\n",
      "# 'FULL_NAME': 'Islamic Republic of Afghanistan',\n",
      "# 'ISO3136': 'AF',\n",
      "# 'JOG': 'NI42-09',\n",
      "# 'LAT': '33',\n",
      "# 'LONG': '66',\n",
      "# 'MGRS': '42STB1970055286',\n",
      "# 'MOD_DATE': '2009-04-10',\n",
      "# 'SHORT_NAME': 'Afghanistan'}"
     ],
     "language": "python",
     "metadata": {},
     "outputs": [],
     "prompt_number": 20
    },
    {
     "cell_type": "code",
     "collapsed": false,
     "input": [
      "i = 0\n",
      "for feature in data['features']:\n",
      "    gapminder_name = feature['properties']['gapminder_name']    \n",
      "    match = False\n",
      "    for row in country_data:\n",
      "        short_name = row['SHORT_NAME']\n",
      "        if short_name == gapminder_name:\n",
      "            match = True\n",
      "            data['features'][i]['properties']['iso_3136'] = row['ISO3136']            \n",
      "            break\n",
      "    if not match:\n",
      "        print \"Did not find %s\" % gapminder_name\n",
      "        data['features'][i]['properties']['iso_3136'] = ''            \n",
      "    i+= 1"
     ],
     "language": "python",
     "metadata": {},
     "outputs": [
      {
       "output_type": "stream",
       "stream": "stdout",
       "text": [
        "Did not find Akrotiri and Dhekelia\n",
        "Did not find \u00c5land\n",
        "Did not find Abkhazia\n",
        "Did not find Antarctica\n",
        "Did not find Channel Islands\n",
        "Did not find Cocos Island\n",
        "Did not find Congo, Dem. Rep.\n",
        "Did not find Clipperton\n",
        "Did not find Cook Is\n",
        "Did not find Congo, Rep.\n",
        "Did not find Cura\u00e7ao\n",
        "Did not find Czechoslovakia\n",
        "Did not find East Germany\n",
        "Did not find Eritrea and Ethiopia\n",
        "Did not find Faeroe Islands\n",
        "Did not find Falkland Is (Malvinas)\n",
        "Did not find Heard and McDonald Islands\n",
        "Did not find Holy See\n",
        "Did not find Hong Kong, China\n",
        "Did not find Lao\n",
        "Did not find Kyrgyz Republic\n",
        "Did not find Macao, China\n",
        "Did not find Macedonia, FYR\n",
        "Did not find Micronesia, Fed. Sts.\n",
        "Did not find Myanmar\n",
        "Did not find Netherlands Antilles\n",
        "Did not find Ngorno-Karabakh\n",
        "Did not find Northern Cyprus\n",
        "Did not find Palestine\n",
        "Did not find North Yemen (former)\n",
        "Did not find Pitcairn\n",
        "Did not find Serbia and Montenegro\n",
        "Did not find Serbia excluding Kosovo\n",
        "Did not find Slovak Republic\n",
        "Did not find Sint Maarten (Dutch part)\n",
        "Did not find Somaliland\n",
        "Did not find South Ossetia\n",
        "Did not find South Georgia and the South Sandwich Islands\n",
        "Did not find South Yemen (former)\n",
        "Did not find St. Barth\u00e9lemy\n",
        "Did not find St. Helena\n",
        "Did not find St. Kitts and Nevis\n",
        "Did not find St. Martin\n",
        "Did not find St. Lucia\n",
        "Did not find St. Martin (French part)\n",
        "Did not find St. Vincent and the Grenadines\n",
        "Did not find St.-Pierre-et-Miquelon\n",
        "Did not find Transnistria\n",
        "Did not find United Korea (former)\n",
        "Did not find Wallis et Futuna\n",
        "Did not find West Germany\n",
        "Did not find Yugoslavia\n",
        "Did not find USSR\n",
        "Did not find Virgin Islands (U.S.)\n"
       ]
      },
      {
       "output_type": "stream",
       "stream": "stderr",
       "text": [
        "-c:7: UnicodeWarning: Unicode equal comparison failed to convert both arguments to Unicode - interpreting them as being unequal\n"
       ]
      }
     ],
     "prompt_number": 22
    },
    {
     "cell_type": "code",
     "collapsed": false,
     "input": [
      "with open('gapminder.geojson', 'w') as f:\n",
      "    json.dump(data, f, indent=4)\n"
     ],
     "language": "python",
     "metadata": {},
     "outputs": [],
     "prompt_number": 26
    },
    {
     "cell_type": "code",
     "collapsed": false,
     "input": [],
     "language": "python",
     "metadata": {},
     "outputs": []
    }
   ],
   "metadata": {}
  }
 ]
}