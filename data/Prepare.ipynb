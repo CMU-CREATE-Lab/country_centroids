{
 "cells": [
  {
   "cell_type": "code",
   "execution_count": 11,
   "metadata": {},
   "outputs": [],
   "source": [
    "import csv, json, math\n",
    "\n",
    "def LonLatToWebMercator(lon,lat):\n",
    "    if lon != \"\" and lat != \"\":        \n",
    "        lon = float(lon)\n",
    "        lat = float(lat)\n",
    "        if lat > 85.05113:\n",
    "            lat = 85.05113\n",
    "        if lat < -85.05113:\n",
    "            lat = -85.05113\n",
    "        x = (lon + 180.0) * 256.0 / 360.0\n",
    "        y = 128.0 - math.log(math.tan((lat + 90.0) * math.pi / 360.0)) * 128.0 / math.pi\n",
    "    else:\n",
    "        x = \"\"\n",
    "        y = \"\"\n",
    "    return [x, y]"
   ]
  },
  {
   "cell_type": "code",
   "execution_count": 12,
   "metadata": {},
   "outputs": [],
   "source": [
    "country_geojson = {\n",
    "    \"type\": \"FeatureCollections\",\n",
    "    \"features\": []\n",
    "}\n",
    "filename = \"gapminder.json\"\n",
    "with open(filename) as f:\n",
    "    gapminder_data = json.load(f)\n",
    "    for country in gapminder_data['rows']:\n",
    "        gapminder_geo = country[0]\n",
    "        gapminder_name = country[1]\n",
    "        lat = country[2]\n",
    "        lng = country[3]\n",
    "        x,y = LonLatToWebMercator(lng, lat)        \n",
    "        feature = {\n",
    "            \"type\": \"Feature\",\n",
    "            \"geometry\": {\"type\": \"Point\", \"coordinates\": [lng, lat]},\n",
    "            \"properties\": {\"names\": [gapminder_name, gapminder_geo], \"webmercator\": [x,y]}\n",
    "        }\n",
    "        country_geojson[\"features\"].append(feature)\n",
    "with open('gapminder.geojson', 'w') as f:\n",
    "    json.dump(country_geojson, f, indent=4)\n",
    "    \n",
    "# gapminder_data['headers']\n",
    "# [u'geo', u'name', u'latitude', u'longitude', u'world_4region']\n",
    "# gapminder_data['rows'][0]\n",
    "# [u'afg', u'Afghanistan', 33, 66, u'asia']"
   ]
  },
  {
   "cell_type": "code",
   "execution_count": 13,
   "metadata": {},
   "outputs": [],
   "source": [
    "filename = \"gapminder.geojson\"\n",
    "with open(filename) as f:\n",
    "    data = json.load(f)\n",
    "# data['features'][0]\n",
    "# {u'geometry': {u'coordinates': [66, 33], u'type': u'Point'},\n",
    "#  u'properties': {u'gapminder_geo': u'afg',\n",
    "#  u'gapminder_name': u'Afghanistan',\n",
    "#  u'webmercator': [174.93333333333334, 103.11672116189807]},\n",
    "#  u'type': u'Feature'}\n"
   ]
  },
  {
   "cell_type": "code",
   "execution_count": 14,
   "metadata": {},
   "outputs": [
    {
     "data": {
      "text/plain": [
       "{u'geometry': {u'coordinates': [66, 33], u'type': u'Point'},\n",
       " u'properties': {u'names': [u'Afghanistan', u'afg'],\n",
       "  u'webmercator': [174.93333333333334, 103.11672116189807]},\n",
       " u'type': u'Feature'}"
      ]
     },
     "execution_count": 14,
     "metadata": {},
     "output_type": "execute_result"
    }
   ],
   "source": [
    "data['features'][0]"
   ]
  },
  {
   "cell_type": "code",
   "execution_count": 15,
   "metadata": {},
   "outputs": [],
   "source": [
    "country_data = []\n",
    "filename = \"gothos/country_centroids_all.csv\"\n",
    "with open(filename) as csvfile:\n",
    "    reader = csv.DictReader(csvfile, delimiter=\"\\t\")\n",
    "    for row in reader:\n",
    "        country_data.append(row)\n",
    "#country_data[0]\n",
    "#{'AFFIL': '',\n",
    "# 'DMS_LAT': '330000',\n",
    "# 'DMS_LONG': '660000',\n",
    "# 'DSG': 'PCLI',\n",
    "# 'FIPS10': 'AF',\n",
    "# 'FULL_NAME': 'Islamic Republic of Afghanistan',\n",
    "# 'ISO3136': 'AF',\n",
    "# 'JOG': 'NI42-09',\n",
    "# 'LAT': '33',\n",
    "# 'LONG': '66',\n",
    "# 'MGRS': '42STB1970055286',\n",
    "# 'MOD_DATE': '2009-04-10',\n",
    "# 'SHORT_NAME': 'Afghanistan'}"
   ]
  },
  {
   "cell_type": "code",
   "execution_count": 17,
   "metadata": {},
   "outputs": [
    {
     "name": "stdout",
     "output_type": "stream",
     "text": [
      "Did not find Akrotiri and Dhekelia\n",
      "Did not find Åland\n",
      "Did not find Abkhazia\n",
      "Did not find Antarctica\n",
      "Did not find Channel Islands\n",
      "Did not find Cocos Island\n",
      "Did not find Congo, Dem. Rep.\n",
      "Did not find Clipperton\n",
      "Did not find Cook Is\n",
      "Did not find Congo, Rep.\n",
      "Did not find Curaçao\n",
      "Did not find Czechoslovakia\n",
      "Did not find East Germany\n",
      "Did not find Eritrea and Ethiopia\n",
      "Did not find Faeroe Islands\n",
      "Did not find Falkland Is (Malvinas)\n",
      "Did not find Heard and McDonald Islands\n",
      "Did not find Holy See\n",
      "Did not find Hong Kong, China\n",
      "Did not find Lao\n",
      "Did not find Kyrgyz Republic\n",
      "Did not find Macao, China\n",
      "Did not find Macedonia, FYR\n",
      "Did not find Micronesia, Fed. Sts.\n",
      "Did not find Myanmar\n",
      "Did not find Netherlands Antilles\n",
      "Did not find Ngorno-Karabakh\n",
      "Did not find Northern Cyprus\n",
      "Did not find Palestine\n",
      "Did not find North Yemen (former)\n",
      "Did not find Pitcairn\n",
      "Did not find Serbia and Montenegro\n",
      "Did not find Serbia excluding Kosovo\n",
      "Did not find Slovak Republic\n",
      "Did not find Sint Maarten (Dutch part)\n",
      "Did not find Somaliland\n",
      "Did not find South Ossetia\n",
      "Did not find South Georgia and the South Sandwich Islands\n",
      "Did not find South Yemen (former)\n",
      "Did not find St. Barthélemy\n",
      "Did not find St. Helena\n",
      "Did not find St. Kitts and Nevis\n",
      "Did not find St. Martin\n",
      "Did not find St. Lucia\n",
      "Did not find St. Martin (French part)\n",
      "Did not find St. Vincent and the Grenadines\n",
      "Did not find St.-Pierre-et-Miquelon\n",
      "Did not find Transnistria\n",
      "Did not find United Korea (former)\n",
      "Did not find Wallis et Futuna\n",
      "Did not find West Germany\n",
      "Did not find Yugoslavia\n",
      "Did not find USSR\n",
      "Did not find Virgin Islands (U.S.)\n"
     ]
    },
    {
     "name": "stderr",
     "output_type": "stream",
     "text": [
      "-c:7: UnicodeWarning: Unicode equal comparison failed to convert both arguments to Unicode - interpreting them as being unequal\n"
     ]
    }
   ],
   "source": [
    "i = 0\n",
    "for feature in data['features']:\n",
    "    gapminder_name = feature['properties']['names'][0]    \n",
    "    match = False\n",
    "    for row in country_data:\n",
    "        short_name = row['SHORT_NAME']\n",
    "        if short_name == gapminder_name:\n",
    "            match = True\n",
    "            data['features'][i]['properties']['names'].append(row['ISO3136'])             \n",
    "            break\n",
    "    if not match:\n",
    "        print \"Did not find %s\" % gapminder_name\n",
    "    i+= 1"
   ]
  },
  {
   "cell_type": "code",
   "execution_count": 18,
   "metadata": {},
   "outputs": [],
   "source": [
    "with open('gapminder.geojson', 'w') as f:\n",
    "    json.dump(data, f, indent=4)\n"
   ]
  },
  {
   "cell_type": "code",
   "execution_count": 22,
   "metadata": {},
   "outputs": [],
   "source": [
    "filename = \"ne_50m_admin_0_countries.geo.json\"\n",
    "with open(filename) as f:\n",
    "    polygon_data = json.load(f)"
   ]
  },
  {
   "cell_type": "code",
   "execution_count": 23,
   "metadata": {},
   "outputs": [
    {
     "data": {
      "text/plain": [
       "{u'abbrev': u'Afg.',\n",
       " u'abbrev_len': 4.0,\n",
       " u'adm0_a3': u'AFG',\n",
       " u'adm0_a3_is': u'AFG',\n",
       " u'adm0_a3_un': -99.0,\n",
       " u'adm0_a3_us': u'AFG',\n",
       " u'adm0_a3_wb': -99.0,\n",
       " u'adm0_dif': 0.0,\n",
       " u'admin': u'Afghanistan',\n",
       " u'brk_a3': u'AFG',\n",
       " u'brk_diff': 0.0,\n",
       " u'brk_group': None,\n",
       " u'brk_name': u'Afghanistan',\n",
       " u'continent': u'Asia',\n",
       " u'economy': u'7. Least developed region',\n",
       " u'featurecla': u'Admin-0 country',\n",
       " u'fips_10': None,\n",
       " u'formal_en': u'Islamic State of Afghanistan',\n",
       " u'formal_fr': None,\n",
       " u'gdp_md_est': 22270.0,\n",
       " u'gdp_year': -99.0,\n",
       " u'geou_dif': 0.0,\n",
       " u'geounit': u'Afghanistan',\n",
       " u'gu_a3': u'AFG',\n",
       " u'homepart': 1.0,\n",
       " u'income_grp': u'5. Low income',\n",
       " u'iso_a2': u'AF',\n",
       " u'iso_a3': u'AFG',\n",
       " u'iso_n3': u'004',\n",
       " u'labelrank': 3.0,\n",
       " u'lastcensus': 1979.0,\n",
       " u'level': 2.0,\n",
       " u'long_len': 11.0,\n",
       " u'mapcolor13': 7.0,\n",
       " u'mapcolor7': 5.0,\n",
       " u'mapcolor8': 6.0,\n",
       " u'mapcolor9': 8.0,\n",
       " u'name': u'Afghanistan',\n",
       " u'name_alt': None,\n",
       " u'name_len': 11.0,\n",
       " u'name_long': u'Afghanistan',\n",
       " u'name_sort': u'Afghanistan',\n",
       " u'note_adm0': None,\n",
       " u'note_brk': None,\n",
       " u'pop_est': 28400000.0,\n",
       " u'pop_year': -99.0,\n",
       " u'postal': u'AF',\n",
       " u'region_un': u'Asia',\n",
       " u'region_wb': u'South Asia',\n",
       " u'scalerank': 1,\n",
       " u'sov_a3': u'AFG',\n",
       " u'sovereignt': u'Afghanistan',\n",
       " u'su_a3': u'AFG',\n",
       " u'su_dif': 0.0,\n",
       " u'subregion': u'Southern Asia',\n",
       " u'subunit': u'Afghanistan',\n",
       " u'tiny': -99.0,\n",
       " u'type': u'Sovereign country',\n",
       " u'un_a3': u'004',\n",
       " u'wb_a2': u'AF',\n",
       " u'wb_a3': u'AFG',\n",
       " u'wikipedia': -99.0,\n",
       " u'woe_id': -99.0}"
      ]
     },
     "execution_count": 23,
     "metadata": {},
     "output_type": "execute_result"
    }
   ],
   "source": [
    "polygon_data['features'][1]['properties']"
   ]
  },
  {
   "cell_type": "code",
   "execution_count": 24,
   "metadata": {},
   "outputs": [
    {
     "name": "stdout",
     "output_type": "stream",
     "text": [
      "MISMATCH Aland Aland Islands Aland\n",
      "MISMATCH Ashmore and Cartier Is. Ashmore and Cartier Islands Ashmore and Cartier Islands\n",
      "MISMATCH Fr. S. Antarctic Lands French Southern and Antarctic Lands French Southern and Antarctic Lands\n",
      "MISMATCH Antigua and Barb. Antigua and Barbuda Antigua and Barbuda\n",
      "MISMATCH Bahamas Bahamas Bahamas, The\n",
      "MISMATCH Bosnia and Herz. Bosnia and Herzegovina Bosnia and Herzegovina\n",
      "MISMATCH St-Barthélemy Saint-Barthélemy St-Barthélemy\n",
      "MISMATCH Brunei Brunei Darussalam Brunei\n",
      "MISMATCH Central African Rep. Central African Republic Central African Republic\n",
      "MISMATCH Dem. Rep. Congo Democratic Republic of the Congo Congo, Dem. Rep.\n",
      "MISMATCH Congo Republic of Congo Congo, Rep.\n",
      "MISMATCH Cook Is. Cook Islands Cook Islands\n",
      "MISMATCH Cayman Is. Cayman Islands Cayman Islands\n",
      "MISMATCH N. Cyprus Northern Cyprus Cyprus, Northern\n",
      "MISMATCH Czech Rep. Czech Republic Czech Republic\n",
      "MISMATCH Dominican Rep. Dominican Republic Dominican Republic\n",
      "MISMATCH Egypt Egypt Egypt, Arab Rep.\n",
      "MISMATCH Falkland Is. Falkland Islands Falkland Islands\n",
      "MISMATCH Faeroe Is. Faeroe Islands Faeroe Islands\n",
      "MISMATCH Micronesia Federated States of Micronesia Micronesia, Federated States of\n",
      "MISMATCH Gambia The Gambia Gambia, The\n",
      "MISMATCH Eq. Guinea Equatorial Guinea Equatorial Guinea\n",
      "MISMATCH Hong Kong Hong Kong Hong Kong SAR, China\n",
      "MISMATCH Heard I. and McDonald Is. Heard I. and McDonald Islands Heard Island and McDonald Islands\n",
      "MISMATCH Indian Ocean Ter. Indian Ocean Territories Indian Ocean Territories\n",
      "MISMATCH Br. Indian Ocean Ter. British Indian Ocean Territory British Indian Ocean Territory\n",
      "MISMATCH Iran Iran Iran, Islamic Rep.\n",
      "MISMATCH Siachen Glacier Siachen Glacier Kashmir\n",
      "MISMATCH Kyrgyzstan Kyrgyzstan Kyrgyz Republic\n",
      "MISMATCH St. Kitts and Nevis Saint Kitts and Nevis St. Kitts and Nevis\n",
      "MISMATCH Korea Republic of Korea Korea, Rep.\n",
      "MISMATCH Saint Lucia Saint Lucia St. Lucia\n",
      "MISMATCH Macao Macao Macao SAR, China\n",
      "MISMATCH St-Martin Saint-Martin St. Martin (French part)\n",
      "MISMATCH Marshall Is. Marshall Islands Marshall Islands\n",
      "MISMATCH Macedonia Macedonia Macedonia, FYR\n",
      "MISMATCH N. Mariana Is. Northern Mariana Islands Northern Mariana Islands\n",
      "MISMATCH Pitcairn Is. Pitcairn Islands Pitcairn Islands\n",
      "MISMATCH Dem. Rep. Korea Dem. Rep. Korea Korea, Dem. Rep.\n",
      "MISMATCH Palestine Palestine Palestine (West Bank and Gaza)\n",
      "MISMATCH Fr. Polynesia French Polynesia French Polynesia\n",
      "MISMATCH Russia Russian Federation Russian Federation\n",
      "MISMATCH W. Sahara Western Sahara Western Sahara\n",
      "MISMATCH S. Sudan South Sudan South Sudan\n",
      "MISMATCH S. Geo. and S. Sandw. Is. South Georgia and South Sandwich Islands South Georgia and the Islands\n",
      "MISMATCH Saint Helena Saint Helena St. Helena\n",
      "MISMATCH Solomon Is. Solomon Islands Solomon Islands\n",
      "MISMATCH St. Pierre and Miquelon Saint Pierre and Miquelon St. Pierre and Miquelon\n",
      "MISMATCH Slovakia Slovakia Slovak Republic\n",
      "MISMATCH Sint Maarten Sint Maarten St. Maarten (Dutch part)\n",
      "MISMATCH Syria Syria Syrian Arab Republic\n",
      "MISMATCH Turks and Caicos Is. Turks and Caicos Islands Turks and Caicos Islands\n",
      "MISMATCH United States United States United States of America\n",
      "MISMATCH Vatican Vatican Vatican (Holy Sea)\n",
      "MISMATCH St. Vin. and Gren. Saint Vincent and the Grenadines St. Vincent and the Grenadines\n",
      "MISMATCH Venezuela Venezuela Venezuela, RB\n",
      "MISMATCH British Virgin Is. British Virgin Islands British Virgin Islands\n",
      "MISMATCH U.S. Virgin Is. United States Virgin Islands Virgin Islands (U.S.)\n",
      "MISMATCH Wallis and Futuna Is. Wallis and Futuna Islands Wallis and Futuna\n",
      "MISMATCH Yemen Yemen Yemen, Rep.\n"
     ]
    }
   ],
   "source": [
    "for feature in polygon_data['features']:\n",
    "    properties = feature['properties']\n",
    "    if properties['name'] != properties['name_long'] or \\\n",
    "        properties['name'] != properties['name_sort'] or \\\n",
    "        properties['name_sort'] != properties['name_long']:\n",
    "        print \"MISMATCH %s %s %s\" % (properties['name'], properties['name_long'], properties['name_sort'])"
   ]
  },
  {
   "cell_type": "code",
   "execution_count": 36,
   "metadata": {},
   "outputs": [],
   "source": [
    "country_geojson = {\n",
    "    \"type\": \"FeatureCollections\",\n",
    "    \"features\": []\n",
    "}\n",
    "filename = \"country_polygons.geojson\"\n",
    "for feature in polygon_data['features']:\n",
    "    geometry = feature['geometry']    \n",
    "    properties = feature['properties']\n",
    "    name_keys = ['abbrev','adm0_a3','admin','formal_en','iso_a2','iso_a3','iso_n3','name','name_long','name_sort']\n",
    "    names = []\n",
    "    for val in name_keys:\n",
    "        if properties[val] is not None:\n",
    "            names.append(properties[val])\n",
    "    feature = {\n",
    "        \"type\": \"Feature\",\n",
    "        \"geometry\": geometry,\n",
    "        \"properties\": { 'names': names}\n",
    "        }\n",
    "    country_geojson[\"features\"].append(feature)\n",
    "with open(filename, 'w') as f:\n",
    "    json.dump(country_geojson, f, indent=4)\n"
   ]
  },
  {
   "cell_type": "code",
   "execution_count": 37,
   "metadata": {},
   "outputs": [
    {
     "data": {
      "text/plain": [
       "{'geometry': {u'coordinates': [[[-69.89912109375, 12.452001953124991],\n",
       "    [-69.895703125, 12.422998046874994],\n",
       "    [-69.94218749999999, 12.438525390624989],\n",
       "    [-70.004150390625, 12.50048828125],\n",
       "    [-70.06611328125, 12.546972656249991],\n",
       "    [-70.05087890624999, 12.597070312499994],\n",
       "    [-70.035107421875, 12.614111328124991],\n",
       "    [-69.97314453125, 12.567626953125],\n",
       "    [-69.91181640625, 12.48046875],\n",
       "    [-69.89912109375, 12.452001953124991]]],\n",
       "  u'type': u'Polygon'},\n",
       " 'properties': {'names': [u'Aruba',\n",
       "   u'ABW',\n",
       "   u'Aruba',\n",
       "   u'Aruba',\n",
       "   u'AW',\n",
       "   u'ABW',\n",
       "   u'533',\n",
       "   u'Aruba',\n",
       "   u'Aruba',\n",
       "   u'Aruba']},\n",
       " 'type': 'Feature'}"
      ]
     },
     "execution_count": 37,
     "metadata": {},
     "output_type": "execute_result"
    }
   ],
   "source": [
    "country_geojson['features'][0]"
   ]
  },
  {
   "cell_type": "code",
   "execution_count": 38,
   "metadata": {},
   "outputs": [
    {
     "data": {
      "text/plain": [
       "{u'geometry': {u'coordinates': [66, 33], u'type': u'Point'},\n",
       " u'properties': {u'names': [u'Afghanistan', u'afg', 'AF'],\n",
       "  u'webmercator': [174.93333333333334, 103.11672116189807]},\n",
       " u'type': u'Feature'}"
      ]
     },
     "execution_count": 38,
     "metadata": {},
     "output_type": "execute_result"
    }
   ],
   "source": [
    "data['features'][0]"
   ]
  },
  {
   "cell_type": "code",
   "execution_count": 44,
   "metadata": {},
   "outputs": [],
   "source": [
    "for feature in data['features']:\n",
    "    properties = feature['properties']\n",
    "    names = properties['names']\n",
    "    match = False\n",
    "    for country in country_geojson['features']:\n",
    "        country_names = country['properties']['names']\n",
    "        for country_name in country_names:\n",
    "            for name in names:\n",
    "                if name == country_name:\n",
    "                    match = True\n",
    "                if match:\n",
    "                    break\n",
    "        if match:\n",
    "            names += country_names\n",
    "#            print \"MATCH FOUND: \" + names[0]\n",
    "#            print \"             \" + \",\".join(country_names)\n",
    "            break\n",
    "\n",
    "        "
   ]
  },
  {
   "cell_type": "code",
   "execution_count": 35,
   "metadata": {},
   "outputs": [
    {
     "data": {
      "text/plain": [
       "[u'Ang.',\n",
       " u'AIA',\n",
       " u'Anguilla',\n",
       " None,\n",
       " u'AI',\n",
       " u'AIA',\n",
       " u'660',\n",
       " u'Anguilla',\n",
       " u'Anguilla',\n",
       " u'Anguilla']"
      ]
     },
     "execution_count": 35,
     "metadata": {},
     "output_type": "execute_result"
    }
   ],
   "source": [
    "country_names"
   ]
  },
  {
   "cell_type": "code",
   "execution_count": 40,
   "metadata": {},
   "outputs": [],
   "source": [
    "foo = ['a','b']"
   ]
  },
  {
   "cell_type": "code",
   "execution_count": 42,
   "metadata": {},
   "outputs": [],
   "source": [
    "foo += country_names"
   ]
  },
  {
   "cell_type": "code",
   "execution_count": 43,
   "metadata": {},
   "outputs": [
    {
     "data": {
      "text/plain": [
       "['a',\n",
       " 'b',\n",
       " u'Zimb.',\n",
       " u'ZWE',\n",
       " u'Zimbabwe',\n",
       " u'Republic of Zimbabwe',\n",
       " u'ZW',\n",
       " u'ZWE',\n",
       " u'716',\n",
       " u'Zimbabwe',\n",
       " u'Zimbabwe',\n",
       " u'Zimbabwe']"
      ]
     },
     "execution_count": 43,
     "metadata": {},
     "output_type": "execute_result"
    }
   ],
   "source": [
    "foo"
   ]
  },
  {
   "cell_type": "code",
   "execution_count": 45,
   "metadata": {},
   "outputs": [
    {
     "data": {
      "text/plain": [
       "{u'names': [u'Afghanistan',\n",
       "  u'afg',\n",
       "  'AF',\n",
       "  u'Afg.',\n",
       "  u'AFG',\n",
       "  u'Afghanistan',\n",
       "  u'Islamic State of Afghanistan',\n",
       "  u'AF',\n",
       "  u'AFG',\n",
       "  u'004',\n",
       "  u'Afghanistan',\n",
       "  u'Afghanistan',\n",
       "  u'Afghanistan'],\n",
       " u'webmercator': [174.93333333333334, 103.11672116189807]}"
      ]
     },
     "execution_count": 45,
     "metadata": {},
     "output_type": "execute_result"
    }
   ],
   "source": [
    "data['features'][0]['properties']"
   ]
  },
  {
   "cell_type": "code",
   "execution_count": 46,
   "metadata": {},
   "outputs": [],
   "source": [
    "with open('gapminder.geojson', 'w') as f:\n",
    "    json.dump(data, f, indent=4)\n"
   ]
  },
  {
   "cell_type": "code",
   "execution_count": null,
   "metadata": {},
   "outputs": [],
   "source": []
  }
 ],
 "metadata": {
  "kernelspec": {
   "display_name": "Python 2",
   "language": "python",
   "name": "python2"
  },
  "language_info": {
   "codemirror_mode": {
    "name": "ipython",
    "version": 2
   },
   "file_extension": ".py",
   "mimetype": "text/x-python",
   "name": "python",
   "nbconvert_exporter": "python",
   "pygments_lexer": "ipython2",
   "version": "2.7.13"
  }
 },
 "nbformat": 4,
 "nbformat_minor": 1
}
